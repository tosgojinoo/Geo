{
 "cells": [
  {
   "cell_type": "code",
   "execution_count": null,
   "metadata": {},
   "outputs": [],
   "source": [
    "# !pip3 install folium\n",
    "# !pip3 install folium --upgrade"
   ]
  },
  {
   "cell_type": "code",
   "execution_count": null,
   "metadata": {},
   "outputs": [],
   "source": []
  },
  {
   "cell_type": "markdown",
   "metadata": {},
   "source": [
    "## 기본 지도 나타내기\n",
    "\n",
    "#### Folium \n",
    "- https://github.com/python-visualization/folium"
   ]
  },
  {
   "cell_type": "code",
   "execution_count": null,
   "metadata": {},
   "outputs": [],
   "source": [
    "# _01 folium 지도 생성\n"
   ]
  },
  {
   "cell_type": "markdown",
   "metadata": {},
   "source": [
    "## 위도와 경도"
   ]
  },
  {
   "cell_type": "code",
   "execution_count": null,
   "metadata": {},
   "outputs": [],
   "source": [
    "# _02 위도, 경도를 입력해 지도의 처음 위치 설정\n"
   ]
  },
  {
   "cell_type": "markdown",
   "metadata": {},
   "source": [
    "## 지도 옵션 변경하기\n",
    "\n",
    "- 지도크기: width, height\n",
    "- zoom level : 0 ~ 18 (default 10)\n",
    "- zoom_start / max_zoom / min_zoom / zoom_control\n",
    "- tiles (default: OpenStreetMap)"
   ]
  },
  {
   "cell_type": "code",
   "execution_count": null,
   "metadata": {},
   "outputs": [],
   "source": [
    "# _03 지도 옵션\n"
   ]
  },
  {
   "cell_type": "markdown",
   "metadata": {},
   "source": [
    "## 타일맵 적용하기"
   ]
  },
  {
   "cell_type": "code",
   "execution_count": null,
   "metadata": {},
   "outputs": [],
   "source": [
    "# _04 Tile Map Test\n",
    "# Default Tile - OpenStreetMap\n",
    "\n",
    "# “OpenStreetMap”\n",
    "# “Mapbox Bright” (Limited levels of zoom for free tiles)\n",
    "# “Mapbox Control Room” (Limited levels of zoom for free tiles)\n",
    "# “Stamen” (Terrain, Toner, and Watercolor)\n",
    "# “Cloudmade” (Must pass API key)\n",
    "# “Mapbox” (Must pass API key)\n",
    "# “CartoDB” (positron and dark_matter)\n"
   ]
  },
  {
   "cell_type": "markdown",
   "metadata": {},
   "source": [
    "## 지도에 Marker 올리기"
   ]
  },
  {
   "cell_type": "code",
   "execution_count": null,
   "metadata": {},
   "outputs": [],
   "source": [
    "# _05 Marker 실습\n"
   ]
  },
  {
   "cell_type": "code",
   "execution_count": null,
   "metadata": {},
   "outputs": [],
   "source": [
    "# _06 서울시 스타벅스 매장 지도 시각화\n",
    "import geopandas as gpd\n",
    "_seoul_sb = './maps/final/seoul_starbucks.geojson'\n",
    "seoul_sgg_stat = gpd.read_file(_seoul_sb)\n",
    "seoul_sgg_stat.info()\n",
    "seoul_sgg_stat.head()"
   ]
  },
  {
   "cell_type": "code",
   "execution_count": null,
   "metadata": {},
   "outputs": [],
   "source": [
    "# _07 GeoDataFrame을 geojson으로 변환하기\n"
   ]
  },
  {
   "cell_type": "code",
   "execution_count": null,
   "metadata": {},
   "outputs": [],
   "source": [
    "# _08 Folium지도에 geojson 올려보기\n",
    "viz_map_1 = folium.Map(\n",
    "    location=[37.573050, 126.979189],\n",
    "    tiles='CartoDB positron',\n",
    "    width=700, height=500,\n",
    "    zoom_start=11\n",
    ")\n"
   ]
  },
  {
   "cell_type": "code",
   "execution_count": null,
   "metadata": {},
   "outputs": [],
   "source": [
    "# _09 스타벅스 매장 타입별로 서클 마커 그려보기\n",
    "viz_map_2 = folium.Map(\n",
    "    location=[37.573050, 126.979189],\n",
    "    tiles='CartoDB positron',\n",
    "    zoom_start=11\n",
    ")\n",
    "\n",
    "#\n",
    "\n",
    "viz_map_2"
   ]
  },
  {
   "cell_type": "code",
   "execution_count": null,
   "metadata": {},
   "outputs": [],
   "source": [
    "# _10 서울시 시군구 통계 지도 시각화\n",
    "_seoul_sgg = './maps/final/seoul_sgg_stat.geojson'\n",
    "seoul_sgg_stat = gpd.read_file(_seoul_sgg)\n",
    "seoul_sgg_stat.info()\n",
    "seoul_sgg_stat.head()"
   ]
  },
  {
   "cell_type": "code",
   "execution_count": null,
   "metadata": {},
   "outputs": [],
   "source": [
    "# _11 geojson만들기\n"
   ]
  },
  {
   "cell_type": "code",
   "execution_count": null,
   "metadata": {},
   "outputs": [],
   "source": [
    "# _12 행정경계 지도 그리기\n",
    "viz_map_3 = folium.Map(\n",
    "    location=[37.573050, 126.979189],\n",
    "    tiles='CartoDB positron',\n",
    "    zoom_start=11\n",
    ")\n",
    "    \n",
    "viz_map_3"
   ]
  },
  {
   "cell_type": "code",
   "execution_count": null,
   "metadata": {},
   "outputs": [],
   "source": [
    "# _13 시군구별 중심점 그려보기\n"
   ]
  },
  {
   "cell_type": "code",
   "execution_count": null,
   "metadata": {},
   "outputs": [],
   "source": [
    "# _14 통계지도 만들기 (eksr)\n",
    "choropleth_map = folium.Map(\n",
    "    location=[37.573050, 126.979189],\n",
    "    tiles='CartoDB dark_matter',\n",
    "    min_zoom=10,\n",
    "    max_zoom=12,\n",
    "    zoom_start=11\n",
    ")\n",
    "\n",
    "choropleth_map"
   ]
  },
  {
   "cell_type": "code",
   "execution_count": null,
   "metadata": {},
   "outputs": [],
   "source": []
  },
  {
   "cell_type": "code",
   "execution_count": null,
   "metadata": {},
   "outputs": [],
   "source": []
  }
 ],
 "metadata": {
  "kernelspec": {
   "display_name": "Python 3",
   "language": "python",
   "name": "python3"
  },
  "language_info": {
   "codemirror_mode": {
    "name": "ipython",
    "version": 3
   },
   "file_extension": ".py",
   "mimetype": "text/x-python",
   "name": "python",
   "nbconvert_exporter": "python",
   "pygments_lexer": "ipython3",
   "version": "3.7.3"
  }
 },
 "nbformat": 4,
 "nbformat_minor": 2
}
